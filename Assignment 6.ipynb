{
 "cells": [
  {
   "cell_type": "markdown",
   "metadata": {},
   "source": [
    "## 1. What are escape characters, and how do you use them?"
   ]
  },
  {
   "cell_type": "code",
   "execution_count": 37,
   "metadata": {},
   "outputs": [
    {
     "name": "stdout",
     "output_type": "stream",
     "text": [
      "Hello\n",
      "World\n",
      "Hello\tWorld\n",
      "Hello 'World' \n",
      "Hello \"World\" \n",
      "Hello \\World\n"
     ]
    }
   ],
   "source": [
    "##\\n\tNew line\n",
    "print(\"Hello\\nWorld\")\n",
    "\n",
    "## \\t\tHorizontal tab\n",
    "print(\"Hello\\tWorld\")\n",
    "\n",
    "## \\'\tSingle quote\n",
    "print(\"Hello \\'World\\' \")\n",
    "      \n",
    "## \\\"\tDouble quote\n",
    "print(\"Hello \\\"World\\\" \")\n",
    "      \n",
    "## \\\\\tBackslash\n",
    "print(\"Hello \\\\World\")"
   ]
  },
  {
   "cell_type": "markdown",
   "metadata": {},
   "source": [
    "## 2. What do the escape characters n and t stand for?"
   ]
  },
  {
   "cell_type": "markdown",
   "metadata": {},
   "source": [
    "ANS---\n",
    "\"n\" stand for new line\n",
    "\n",
    "\"t\" stand for tab"
   ]
  },
  {
   "cell_type": "markdown",
   "metadata": {},
   "source": [
    "## 3. What is the way to include backslash characters in a string?"
   ]
  },
  {
   "cell_type": "markdown",
   "metadata": {},
   "source": [
    "ANS---\n",
    "To insert characters that are illegal in a string, use an escape character. An escape character is a backslash \\ followed by the character we want to insert."
   ]
  },
  {
   "cell_type": "markdown",
   "metadata": {},
   "source": [
    "## 4. The string &quot;Howl&#39;s Moving Castle&quot; is a correct value. Why isn&#39;t the single quote character in the word Howl&#39;s not escaped a problem?"
   ]
  },
  {
   "cell_type": "markdown",
   "metadata": {},
   "source": [
    "Ans---This is not creating problem because the string is in between double quote.If the string is in between single quote then it will give error and vice versa."
   ]
  },
  {
   "cell_type": "markdown",
   "metadata": {},
   "source": [
    "## 6. What are the values of the given expressions?"
   ]
  },
  {
   "cell_type": "markdown",
   "metadata": {},
   "source": [
    "&#39;Hello, world!&#39;[1]----- 'e'\n",
    "\n",
    "&#39;Hello, world!&#39;[0:5]----'hello'\n",
    "\n",
    "&#39;Hello, world!&#39;[:5]-----'hello'\n",
    "\n",
    "&#39;Hello, world!&#39;[3:]------'lo, world!'\n"
   ]
  },
  {
   "cell_type": "markdown",
   "metadata": {},
   "source": [
    "## 7. What are the values of the following expressions?"
   ]
  },
  {
   "cell_type": "markdown",
   "metadata": {},
   "source": [
    "&#39;Hello&#39;.upper()----'HELLO'\n",
    "\n",
    "&#39;Hello&#39;.upper().isupper()------TRUE\n",
    "\n",
    "&#39;Hello&#39;.upper().lower()------'hello'\n",
    "\n"
   ]
  },
  {
   "cell_type": "markdown",
   "metadata": {},
   "source": [
    "## 8. What are the values of the following expressions?"
   ]
  },
  {
   "cell_type": "markdown",
   "metadata": {},
   "source": [
    "'Remember, remember, the fifth of July.'.split()-------['Remember,', 'remember,', 'the', 'fifth', 'of', 'July.']\n",
    "\n",
    "\"-\".join(\"There can only one.\".split())------'There-can-only-one.'\n"
   ]
  },
  {
   "cell_type": "markdown",
   "metadata": {},
   "source": [
    "## 9. What are the methods for right-justifying, left-justifying, and centering a string?"
   ]
  },
  {
   "cell_type": "code",
   "execution_count": null,
   "metadata": {},
   "outputs": [],
   "source": [
    "Ans---\n",
    "right-justifying-----string.rjust(no of position,\"filled  character\")\n",
    "\n",
    "left-justifying-----string.ljust(no of position,\"filled  character\")\n",
    "\n",
    "centering a string----string.center(no of position,\"filled  character\")"
   ]
  },
  {
   "cell_type": "code",
   "execution_count": 22,
   "metadata": {},
   "outputs": [
    {
     "name": "stdout",
     "output_type": "stream",
     "text": [
      "###############kusal\n",
      "kusal***************\n",
      "@@kusal@@@\n"
     ]
    }
   ],
   "source": [
    "#example\n",
    "st='kusal'\n",
    "\n",
    "#right-justifying\n",
    "print(st.rjust(20,\"#\"))\n",
    "\n",
    "## left-justifying\n",
    "print(st.ljust(20,\"*\"))\n",
    "\n",
    "## centering a string\n",
    "\n",
    "print(st.center(10,\"@\"))"
   ]
  },
  {
   "cell_type": "markdown",
   "metadata": {},
   "source": [
    "## 10. What is the best way to remove whitespace characters from the start or end?"
   ]
  },
  {
   "cell_type": "markdown",
   "metadata": {},
   "source": [
    "Ans--\n",
    "To remove whitespace characters from the start ----string.lstrip(left strip)\n",
    "\n",
    "To remove whitespace characters from the end ----string.rstrip(right strip)\n",
    "\n",
    "To remove whitespace characters from the both start and end---string.strip\n"
   ]
  },
  {
   "cell_type": "code",
   "execution_count": null,
   "metadata": {},
   "outputs": [],
   "source": []
  }
 ],
 "metadata": {
  "kernelspec": {
   "display_name": "Python 3",
   "language": "python",
   "name": "python3"
  },
  "language_info": {
   "codemirror_mode": {
    "name": "ipython",
    "version": 3
   },
   "file_extension": ".py",
   "mimetype": "text/x-python",
   "name": "python",
   "nbconvert_exporter": "python",
   "pygments_lexer": "ipython3",
   "version": "3.7.1"
  }
 },
 "nbformat": 4,
 "nbformat_minor": 2
}
